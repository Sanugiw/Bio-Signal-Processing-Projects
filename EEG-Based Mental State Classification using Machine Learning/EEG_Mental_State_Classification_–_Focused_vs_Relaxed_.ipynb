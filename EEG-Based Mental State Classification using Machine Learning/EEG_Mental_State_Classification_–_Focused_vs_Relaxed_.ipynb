{
  "cells": [
    {
      "cell_type": "markdown",
      "metadata": {
        "id": "WsL9ok4twGy6"
      },
      "source": [
        "# EEG Focus vs Relaxation Classification\n",
        "\n",
        "## Introduction\n",
        "EEG (Electroencephalography) measures brain activity across different frequency bands (Delta, Theta, Alpha, Beta).  \n",
        "- **Relaxed state (eyes closed):** Alpha (8–13 Hz) power increases.\n",
        "- **Focused state (motor imagery):** Beta (13–30 Hz) power increases, Alpha decreases.\n",
        "\n",
        "This project uses the **EEGBCI dataset** (PhysioNet), which contains EEG data during baseline and motor imagery tasks.  \n",
        "Goal: **Classify Relaxed vs Focused mental states using band power features and Random Forest.**\n"
      ]
    },
    {
      "cell_type": "markdown",
      "metadata": {
        "id": "w388oZ2wD3v5"
      },
      "source": [
        "## Step 1: Installing and Importing Required Libraries\n",
        "\n",
        "We start by installing MNE, a powerful EEG/MEG data analysis library. We also import standard libraries for numerical computing, visualization, and machine learning.\n",
        "\n",
        "- **MNE** is used to load and preprocess EEG datasets.\n",
        "- **NumPy & Matplotlib** are used for basic computations and plots.\n",
        "- **Scikit-learn** provides ML models and evaluation tools.\n",
        "- **Seaborn** helps visualize the confusion matrix.\n"
      ]
    },
    {
      "cell_type": "code",
      "execution_count": null,
      "metadata": {
        "colab": {
          "base_uri": "https://localhost:8080/"
        },
        "id": "zOztzEuu_rIj",
        "outputId": "9dc14441-9dc4-40f6-f246-bfba51c63154"
      },
      "outputs": [
        {
          "name": "stdout",
          "output_type": "stream",
          "text": [
            "Requirement already satisfied: mne in /usr/local/lib/python3.11/dist-packages (1.10.0)\n",
            "Requirement already satisfied: numpy in /usr/local/lib/python3.11/dist-packages (2.0.2)\n",
            "Requirement already satisfied: scipy in /usr/local/lib/python3.11/dist-packages (1.16.0)\n",
            "Requirement already satisfied: scikit-learn in /usr/local/lib/python3.11/dist-packages (1.6.1)\n",
            "Requirement already satisfied: matplotlib in /usr/local/lib/python3.11/dist-packages (3.10.0)\n",
            "Requirement already satisfied: seaborn in /usr/local/lib/python3.11/dist-packages (0.13.2)\n",
            "Requirement already satisfied: decorator in /usr/local/lib/python3.11/dist-packages (from mne) (4.4.2)\n",
            "Requirement already satisfied: jinja2 in /usr/local/lib/python3.11/dist-packages (from mne) (3.1.6)\n",
            "Requirement already satisfied: lazy-loader>=0.3 in /usr/local/lib/python3.11/dist-packages (from mne) (0.4)\n",
            "Requirement already satisfied: packaging in /usr/local/lib/python3.11/dist-packages (from mne) (25.0)\n",
            "Requirement already satisfied: pooch>=1.5 in /usr/local/lib/python3.11/dist-packages (from mne) (1.8.2)\n",
            "Requirement already satisfied: tqdm in /usr/local/lib/python3.11/dist-packages (from mne) (4.67.1)\n",
            "Requirement already satisfied: joblib>=1.2.0 in /usr/local/lib/python3.11/dist-packages (from scikit-learn) (1.5.1)\n",
            "Requirement already satisfied: threadpoolctl>=3.1.0 in /usr/local/lib/python3.11/dist-packages (from scikit-learn) (3.6.0)\n",
            "Requirement already satisfied: contourpy>=1.0.1 in /usr/local/lib/python3.11/dist-packages (from matplotlib) (1.3.2)\n",
            "Requirement already satisfied: cycler>=0.10 in /usr/local/lib/python3.11/dist-packages (from matplotlib) (0.12.1)\n",
            "Requirement already satisfied: fonttools>=4.22.0 in /usr/local/lib/python3.11/dist-packages (from matplotlib) (4.59.0)\n",
            "Requirement already satisfied: kiwisolver>=1.3.1 in /usr/local/lib/python3.11/dist-packages (from matplotlib) (1.4.8)\n",
            "Requirement already satisfied: pillow>=8 in /usr/local/lib/python3.11/dist-packages (from matplotlib) (11.3.0)\n",
            "Requirement already satisfied: pyparsing>=2.3.1 in /usr/local/lib/python3.11/dist-packages (from matplotlib) (3.2.3)\n",
            "Requirement already satisfied: python-dateutil>=2.7 in /usr/local/lib/python3.11/dist-packages (from matplotlib) (2.9.0.post0)\n",
            "Requirement already satisfied: pandas>=1.2 in /usr/local/lib/python3.11/dist-packages (from seaborn) (2.2.2)\n",
            "Requirement already satisfied: pytz>=2020.1 in /usr/local/lib/python3.11/dist-packages (from pandas>=1.2->seaborn) (2025.2)\n",
            "Requirement already satisfied: tzdata>=2022.7 in /usr/local/lib/python3.11/dist-packages (from pandas>=1.2->seaborn) (2025.2)\n",
            "Requirement already satisfied: platformdirs>=2.5.0 in /usr/local/lib/python3.11/dist-packages (from pooch>=1.5->mne) (4.3.8)\n",
            "Requirement already satisfied: requests>=2.19.0 in /usr/local/lib/python3.11/dist-packages (from pooch>=1.5->mne) (2.32.3)\n",
            "Requirement already satisfied: six>=1.5 in /usr/local/lib/python3.11/dist-packages (from python-dateutil>=2.7->matplotlib) (1.17.0)\n",
            "Requirement already satisfied: MarkupSafe>=2.0 in /usr/local/lib/python3.11/dist-packages (from jinja2->mne) (3.0.2)\n",
            "Requirement already satisfied: charset-normalizer<4,>=2 in /usr/local/lib/python3.11/dist-packages (from requests>=2.19.0->pooch>=1.5->mne) (3.4.2)\n",
            "Requirement already satisfied: idna<4,>=2.5 in /usr/local/lib/python3.11/dist-packages (from requests>=2.19.0->pooch>=1.5->mne) (3.10)\n",
            "Requirement already satisfied: urllib3<3,>=1.21.1 in /usr/local/lib/python3.11/dist-packages (from requests>=2.19.0->pooch>=1.5->mne) (2.5.0)\n",
            "Requirement already satisfied: certifi>=2017.4.17 in /usr/local/lib/python3.11/dist-packages (from requests>=2.19.0->pooch>=1.5->mne) (2025.7.14)\n"
          ]
        }
      ],
      "source": [
        "# Install dependencies\n",
        "!pip install mne numpy scipy scikit-learn matplotlib seaborn\n",
        "\n",
        "\n",
        "# Imports\n",
        "import mne\n",
        "from mne.datasets import eegbci\n",
        "from mne.io import read_raw_edf, concatenate_raws\n",
        "from sklearn.model_selection import train_test_split\n",
        "from sklearn.ensemble import RandomForestClassifier\n",
        "from sklearn.metrics import classification_report\n",
        "import numpy as np\n",
        "import matplotlib.pyplot as plt\n",
        "import seaborn as sns\n",
        "from sklearn.metrics import confusion_matrix"
      ]
    },
    {
      "cell_type": "markdown",
      "metadata": {
        "id": "brkRrtjWD7Vh"
      },
      "source": [
        "## Step 2: Loading EEG Data\n",
        "\n",
        "We load EEG data using `mne.datasets.eegbci.load_data()`.\n",
        "\n",
        "We're using Subject 1 and runs 6 & 10 from the BCI Competition dataset:\n",
        "- **Run 6:** Left hand motor imagery\n",
        "- **Run 10:** Right hand motor imagery\n",
        "\n",
        "We concatenate them into one continuous signal using `concatenate_raws()`, and rename EEG channels to remove dots for compatibility with MNE montages."
      ]
    },
    {
      "cell_type": "code",
      "execution_count": null,
      "metadata": {
        "id": "nBsFfeHcBWrs"
      },
      "outputs": [],
      "source": [
        "# Subjects 1, Runs 6 & 10: Motor Imagery Left vs Right Hand\n",
        "# ==========================\n",
        "subject = 1\n",
        "runs = [6, 10]  # 6 = left hand, 10 = right hand\n",
        "\n",
        "mne.set_log_level('WARNING')  # Suppress warnings\n",
        "files = eegbci.load_data(subject, runs)\n",
        "raw = concatenate_raws([read_raw_edf(f, preload=True) for f in files])\n"
      ]
    },
    {
      "cell_type": "markdown",
      "metadata": {
        "id": "i4yBEwTlEAaj"
      },
      "source": [
        "## Step 3: EEG Preprocessing\n",
        "\n",
        "To ensure signal quality and consistency:\n",
        "- **Montage (electrode layout):** Applied using `standard_1020`. It aligns channel names to a physical scalp map.\n",
        "- **Filtering:** We apply a bandpass filter between 4–30 Hz. This range captures key motor rhythms:\n",
        "  - **Mu rhythms (8–12 Hz)**\n",
        "  - **Beta rhythms (13–30 Hz)**\n",
        "\n",
        "Filtering removes slow drifts and high-frequency noise not relevant to motor imagery.\n"
      ]
    },
    {
      "cell_type": "code",
      "execution_count": null,
      "metadata": {
        "colab": {
          "base_uri": "https://localhost:8080/",
          "height": 439
        },
        "id": "G29EBLMCBkDj",
        "outputId": "37be020c-e487-4ec1-ebc6-d2d63affcb03"
      },
      "outputs": [
        {
          "data": {
            "text/html": [
              "<script type=\"text/javascript\">\n",
              "    // must be `var` (not `const`) because this can get embedded multiple times on a page\n",
              "var toggleVisibility = (className) => {\n",
              "\n",
              "    const elements = document.querySelectorAll(`.${className}`);\n",
              "\n",
              "    elements.forEach(element => {\n",
              "        if (element.classList.contains(\"mne-repr-section-header\")) {\n",
              "            return  // Don't collapse the section header row\n",
              "        }\n",
              "        element.classList.toggle(\"mne-repr-collapsed\");\n",
              "    });\n",
              "\n",
              "    // trigger caret to rotate\n",
              "    var sel = `.mne-repr-section-header.${className} > th.mne-repr-section-toggle > button`;\n",
              "    const button = document.querySelector(sel);\n",
              "    button.classList.toggle(\"collapsed\");\n",
              "\n",
              "    // adjust tooltip\n",
              "    sel = `tr.mne-repr-section-header.${className}`;\n",
              "    const secHeadRow = document.querySelector(sel);\n",
              "    secHeadRow.classList.toggle(\"collapsed\");\n",
              "    secHeadRow.title = secHeadRow.title === \"Hide section\" ? \"Show section\" : \"Hide section\";\n",
              "}\n",
              "</script>\n",
              "\n",
              "<style type=\"text/css\">\n",
              "    /*\n",
              "Styles in this section apply both to the sphinx-built website docs and to notebooks\n",
              "rendered in an IDE or in Jupyter. In our web docs, styles here are complemented by\n",
              "doc/_static/styles.css and other CSS files (e.g. from the sphinx theme, sphinx-gallery,\n",
              "or bootstrap). In IDEs/Jupyter, those style files are unavailable, so only the rules in\n",
              "this file apply (plus whatever default styling the IDE applies).\n",
              "*/\n",
              ".mne-repr-table {\n",
              "    display: inline;  /* prevent using full container width */\n",
              "}\n",
              ".mne-repr-table tr.mne-repr-section-header > th {\n",
              "    padding-top: 1rem;\n",
              "    text-align: left;\n",
              "    vertical-align: middle;\n",
              "}\n",
              ".mne-repr-section-toggle > button {\n",
              "    all: unset;\n",
              "    display: block;\n",
              "    height: 1rem;\n",
              "    width: 1rem;\n",
              "}\n",
              ".mne-repr-section-toggle > button > svg {\n",
              "    height: 60%;\n",
              "}\n",
              "\n",
              "/* transition (rotation) effects on the collapser button */\n",
              ".mne-repr-section-toggle > button.collapsed > svg {\n",
              "    transition: 0.1s ease-out;\n",
              "    transform: rotate(-90deg);\n",
              "}\n",
              ".mne-repr-section-toggle > button:not(.collapsed) > svg {\n",
              "    transition: 0.1s ease-out;\n",
              "    transform: rotate(0deg);\n",
              "}\n",
              "\n",
              "/* hide collapsed table rows */\n",
              ".mne-repr-collapsed {\n",
              "    display: none;\n",
              "}\n",
              "\n",
              "\n",
              "@layer {\n",
              "    /*\n",
              "    Selectors in a `@layer` will always be lower-precedence than selectors outside the\n",
              "    layer. So even though e.g. `div.output_html` is present in the sphinx-rendered\n",
              "    website docs, the styles here won't take effect there as long as some other rule\n",
              "    somewhere in the page's CSS targets the same element.\n",
              "\n",
              "    In IDEs or Jupyter notebooks, though, the CSS files from the sphinx theme,\n",
              "    sphinx-gallery, and bootstrap are unavailable, so these styles will apply.\n",
              "\n",
              "    Notes:\n",
              "\n",
              "    - the selector `.accordion-body` is for MNE Reports\n",
              "    - the selector `.output_html` is for VSCode's notebook interface\n",
              "    - the selector `.jp-RenderedHTML` is for Jupyter notebook\n",
              "    - variables starting with `--theme-` are VSCode-specific.\n",
              "    - variables starting with `--jp-` are Jupyter styles, *some of which* are also\n",
              "      available in VSCode. Here we try the `--theme-` variable first, then fall back to\n",
              "      the `--jp-` ones.\n",
              "    */\n",
              "    .mne-repr-table {\n",
              "        --mne-toggle-color: var(--theme-foreground, var(--jp-ui-font-color1));\n",
              "        --mne-button-bg-color: var(--theme-button-background, var(--jp-info-color0, var(--jp-content-link-color)));\n",
              "        --mne-button-fg-color: var(--theme-button-foreground, var(--jp-ui-inverse-font-color0, var(--jp-editor-background)));\n",
              "        --mne-button-hover-bg-color: var(--theme-button-hover-background, var(--jp-info-color1));\n",
              "        --mne-button-radius: var(--jp-border-radius, 0.25rem);\n",
              "    }\n",
              "    /* chevron position/alignment; in VSCode it looks ok without adjusting */\n",
              "    .accordion-body .mne-repr-section-toggle > button,\n",
              "    .jp-RenderedHTML .mne-repr-section-toggle > button {\n",
              "        padding: 0 0 45% 25% !important;\n",
              "    }\n",
              "    /* chevron color; MNE Report doesn't have light/dark mode */\n",
              "    div.output_html .mne-repr-section-toggle > button > svg > path,\n",
              "    .jp-RenderedHTML .mne-repr-section-toggle > button > svg > path {\n",
              "        fill: var(--mne-toggle-color);\n",
              "    }\n",
              "    .accordion-body .mne-ch-names-btn,\n",
              "    div.output_html .mne-ch-names-btn,\n",
              "    .jp-RenderedHTML .mne-ch-names-btn {\n",
              "        -webkit-border-radius: var(--mne-button-radius);\n",
              "        -moz-border-radius: var(--mne-button-radius);\n",
              "        border-radius: var(--mne-button-radius);\n",
              "        border: none;\n",
              "        background-image: none;\n",
              "        background-color: var(--mne-button-bg-color);\n",
              "        color: var(--mne-button-fg-color);\n",
              "        font-size: inherit;\n",
              "        min-width: 1.5rem;\n",
              "        padding: 0.25rem;\n",
              "        text-align: center;\n",
              "        text-decoration: none;\n",
              "    }\n",
              "    .accordion-body .mne-ch-names-btn:hover,\n",
              "    div.output_html .mne.ch-names-btn:hover,\n",
              "    .jp-RenderedHTML .mne-ch-names-btn:hover {\n",
              "        background-color: var(--mne-button-hover-bg-color);\n",
              "        text-decoration: underline;\n",
              "    }\n",
              "    .accordion-body .mne-ch-names-btn:focus-visible,\n",
              "    div.output_html .mne-ch-names-btn:focus-visible,\n",
              "    .jp-RenderedHTML .mne-ch-names-btn:focus-visible {\n",
              "        outline: 0.1875rem solid var(--mne-button-bg-color) !important;\n",
              "        outline-offset: 0.1875rem !important;\n",
              "    }\n",
              "}\n",
              "</style>\n",
              "\n",
              "\n",
              "\n",
              "<table class=\"table mne-repr-table\">\n",
              "    \n",
              "\n",
              "\n",
              "\n",
              "\n",
              "\n",
              "\n",
              "\n",
              "<tr class=\"mne-repr-section-header general-c9b20bd4-5a5b-4fb6-9b38-8f4f97b17311\"\n",
              "     title=\"Hide section\" \n",
              "    onclick=\"toggleVisibility('general-c9b20bd4-5a5b-4fb6-9b38-8f4f97b17311')\">\n",
              "    <th class=\"mne-repr-section-toggle\">\n",
              "        <button >\n",
              "            <svg xmlns=\"http://www.w3.org/2000/svg\" viewBox=\"0 0 512 512\"><!--!Font Awesome Free 6.6.0 by @fontawesome - https://fontawesome.com License - https://fontawesome.com/license/free Copyright 2024 Fonticons, Inc.--><path d=\"M233.4 406.6c12.5 12.5 32.8 12.5 45.3 0l192-192c12.5-12.5 12.5-32.8 0-45.3s-32.8-12.5-45.3 0L256 338.7 86.6 169.4c-12.5-12.5-32.8-12.5-45.3 0s-12.5 32.8 0 45.3l192 192z\"/></svg>\n",
              "        </button>\n",
              "    </th>\n",
              "    <th colspan=\"2\">\n",
              "        <strong>General</strong>\n",
              "    </th>\n",
              "</tr>\n",
              "\n",
              "\n",
              "<tr class=\"repr-element general-c9b20bd4-5a5b-4fb6-9b38-8f4f97b17311 \">\n",
              "    <td class=\"mne-repr-section-toggle\"></td>\n",
              "    <td>Filename(s)</td>\n",
              "    <td>\n",
              "        \n",
              "        S001R06.edf\n",
              "        <br />\n",
              "        \n",
              "        S001R10.edf\n",
              "        \n",
              "        \n",
              "    </td>\n",
              "</tr>\n",
              "\n",
              "<tr class=\"repr-element general-c9b20bd4-5a5b-4fb6-9b38-8f4f97b17311 \">\n",
              "    <td class=\"mne-repr-section-toggle\"></td>\n",
              "    <td>MNE object type</td>\n",
              "    <td>RawEDF</td>\n",
              "</tr>\n",
              "<tr class=\"repr-element general-c9b20bd4-5a5b-4fb6-9b38-8f4f97b17311 \">\n",
              "    <td class=\"mne-repr-section-toggle\"></td>\n",
              "    <td>Measurement date</td>\n",
              "    \n",
              "    <td>2009-08-12 at 16:15:00 UTC</td>\n",
              "    \n",
              "</tr>\n",
              "<tr class=\"repr-element general-c9b20bd4-5a5b-4fb6-9b38-8f4f97b17311 \">\n",
              "    <td class=\"mne-repr-section-toggle\"></td>\n",
              "    <td>Participant</td>\n",
              "    \n",
              "    \n",
              "    <td>X</td>\n",
              "    \n",
              "    \n",
              "</tr>\n",
              "<tr class=\"repr-element general-c9b20bd4-5a5b-4fb6-9b38-8f4f97b17311 \">\n",
              "    <td class=\"mne-repr-section-toggle\"></td>\n",
              "    <td>Experimenter</td>\n",
              "    \n",
              "    <td>Unknown</td>\n",
              "    \n",
              "</tr>\n",
              "    \n",
              "\n",
              "\n",
              "\n",
              "\n",
              "\n",
              "\n",
              "\n",
              "<tr class=\"mne-repr-section-header acquisition-bb967421-0e3d-4143-929f-aface2eb11e5\"\n",
              "     title=\"Hide section\" \n",
              "    onclick=\"toggleVisibility('acquisition-bb967421-0e3d-4143-929f-aface2eb11e5')\">\n",
              "    <th class=\"mne-repr-section-toggle\">\n",
              "        <button >\n",
              "            <svg xmlns=\"http://www.w3.org/2000/svg\" viewBox=\"0 0 512 512\"><!--!Font Awesome Free 6.6.0 by @fontawesome - https://fontawesome.com License - https://fontawesome.com/license/free Copyright 2024 Fonticons, Inc.--><path d=\"M233.4 406.6c12.5 12.5 32.8 12.5 45.3 0l192-192c12.5-12.5 12.5-32.8 0-45.3s-32.8-12.5-45.3 0L256 338.7 86.6 169.4c-12.5-12.5-32.8-12.5-45.3 0s-12.5 32.8 0 45.3l192 192z\"/></svg>\n",
              "        </button>\n",
              "    </th>\n",
              "    <th colspan=\"2\">\n",
              "        <strong>Acquisition</strong>\n",
              "    </th>\n",
              "</tr>\n",
              "\n",
              "\n",
              "<tr class=\"repr-element acquisition-bb967421-0e3d-4143-929f-aface2eb11e5 \">\n",
              "    <td class=\"mne-repr-section-toggle\"></td>\n",
              "    <td>Duration</td>\n",
              "    <td>00:04:10 (HH:MM:SS)</td>\n",
              "</tr>\n",
              "\n",
              "\n",
              "\n",
              "\n",
              "\n",
              "\n",
              "\n",
              "\n",
              "<tr class=\"repr-element acquisition-bb967421-0e3d-4143-929f-aface2eb11e5 \">\n",
              "    <td class=\"mne-repr-section-toggle\"></td>\n",
              "    <td>Sampling frequency</td>\n",
              "    <td>160.00 Hz</td>\n",
              "</tr>\n",
              "\n",
              "\n",
              "<tr class=\"repr-element acquisition-bb967421-0e3d-4143-929f-aface2eb11e5 \">\n",
              "    <td class=\"mne-repr-section-toggle\"></td>\n",
              "    <td>Time points</td>\n",
              "    <td>40,000</td>\n",
              "</tr>\n",
              "\n",
              "\n",
              "    \n",
              "\n",
              "\n",
              "\n",
              "\n",
              "\n",
              "\n",
              "\n",
              "<tr class=\"mne-repr-section-header channels-6bc5ec5e-52d2-442e-9e9b-abae4814ceb2\"\n",
              "     title=\"Hide section\" \n",
              "    onclick=\"toggleVisibility('channels-6bc5ec5e-52d2-442e-9e9b-abae4814ceb2')\">\n",
              "    <th class=\"mne-repr-section-toggle\">\n",
              "        <button >\n",
              "            <svg xmlns=\"http://www.w3.org/2000/svg\" viewBox=\"0 0 512 512\"><!--!Font Awesome Free 6.6.0 by @fontawesome - https://fontawesome.com License - https://fontawesome.com/license/free Copyright 2024 Fonticons, Inc.--><path d=\"M233.4 406.6c12.5 12.5 32.8 12.5 45.3 0l192-192c12.5-12.5 12.5-32.8 0-45.3s-32.8-12.5-45.3 0L256 338.7 86.6 169.4c-12.5-12.5-32.8-12.5-45.3 0s-12.5 32.8 0 45.3l192 192z\"/></svg>\n",
              "        </button>\n",
              "    </th>\n",
              "    <th colspan=\"2\">\n",
              "        <strong>Channels</strong>\n",
              "    </th>\n",
              "</tr>\n",
              "\n",
              "\n",
              "    \n",
              "<tr class=\"repr-element channels-6bc5ec5e-52d2-442e-9e9b-abae4814ceb2 \">\n",
              "    <td class=\"mne-repr-section-toggle\"></td>\n",
              "    <td>EEG</td>\n",
              "    <td>\n",
              "        <button class=\"mne-ch-names-btn sd-sphinx-override sd-btn sd-btn-info sd-text-wrap sd-shadow-sm\" onclick=\"alert('Good EEG:\\n\\nFC5, FC3, FC1, FCZ, FC2, FC4, FC6, C5, C3, C1, CZ, C2, C4, C6, CP5, CP3, CP1, CPZ, CP2, CP4, CP6, FP1, FPZ, FP2, AF7, AF3, AFZ, AF4, AF8, F7, F5, F3, F1, FZ, F2, F4, F6, F8, FT7, FT8, T7, T8, T9, T10, TP7, TP8, P7, P5, P3, P1, PZ, P2, P4, P6, P8, PO7, PO3, POZ, PO4, PO8, O1, OZ, O2, IZ')\" title=\"(Click to open in popup)&#13;&#13;FC5, FC3, FC1, FCZ, FC2, FC4, FC6, C5, C3, C1, CZ, C2, C4, C6, CP5, CP3, CP1, CPZ, CP2, CP4, CP6, FP1, FPZ, FP2, AF7, AF3, AFZ, AF4, AF8, F7, F5, F3, F1, FZ, F2, F4, F6, F8, FT7, FT8, T7, T8, T9, T10, TP7, TP8, P7, P5, P3, P1, PZ, P2, P4, P6, P8, PO7, PO3, POZ, PO4, PO8, O1, OZ, O2, IZ\">\n",
              "            64\n",
              "        </button>\n",
              "\n",
              "        \n",
              "    </td>\n",
              "</tr>\n",
              "\n",
              "\n",
              "<tr class=\"repr-element channels-6bc5ec5e-52d2-442e-9e9b-abae4814ceb2 \">\n",
              "    <td class=\"mne-repr-section-toggle\"></td>\n",
              "    <td>Head & sensor digitization</td>\n",
              "    \n",
              "    <td>55 points</td>\n",
              "    \n",
              "</tr>\n",
              "    \n",
              "\n",
              "\n",
              "\n",
              "\n",
              "\n",
              "\n",
              "\n",
              "<tr class=\"mne-repr-section-header filters-b4f524a9-cc08-4576-b826-3b2685dc40b5\"\n",
              "     title=\"Hide section\" \n",
              "    onclick=\"toggleVisibility('filters-b4f524a9-cc08-4576-b826-3b2685dc40b5')\">\n",
              "    <th class=\"mne-repr-section-toggle\">\n",
              "        <button >\n",
              "            <svg xmlns=\"http://www.w3.org/2000/svg\" viewBox=\"0 0 512 512\"><!--!Font Awesome Free 6.6.0 by @fontawesome - https://fontawesome.com License - https://fontawesome.com/license/free Copyright 2024 Fonticons, Inc.--><path d=\"M233.4 406.6c12.5 12.5 32.8 12.5 45.3 0l192-192c12.5-12.5 12.5-32.8 0-45.3s-32.8-12.5-45.3 0L256 338.7 86.6 169.4c-12.5-12.5-32.8-12.5-45.3 0s-12.5 32.8 0 45.3l192 192z\"/></svg>\n",
              "        </button>\n",
              "    </th>\n",
              "    <th colspan=\"2\">\n",
              "        <strong>Filters</strong>\n",
              "    </th>\n",
              "</tr>\n",
              "\n",
              "\n",
              "<tr class=\"repr-element filters-b4f524a9-cc08-4576-b826-3b2685dc40b5 \">\n",
              "    <td class=\"mne-repr-section-toggle\"></td>\n",
              "    <td>Highpass</td>\n",
              "    <td>4.00 Hz</td>\n",
              "</tr>\n",
              "\n",
              "\n",
              "<tr class=\"repr-element filters-b4f524a9-cc08-4576-b826-3b2685dc40b5 \">\n",
              "    <td class=\"mne-repr-section-toggle\"></td>\n",
              "    <td>Lowpass</td>\n",
              "    <td>30.00 Hz</td>\n",
              "</tr>\n",
              "\n",
              "\n",
              "</table>"
            ],
            "text/plain": [
              "<RawEDF | S001R06.edf, 64 x 40000 (250.0 s), ~19.6 MiB, data loaded>"
            ]
          },
          "execution_count": 3,
          "metadata": {},
          "output_type": "execute_result"
        }
      ],
      "source": [
        "# Normalize channel names (e.g., 'Fc5.' → 'FC5')\n",
        "raw.rename_channels(lambda name: name.strip('.').upper())\n",
        "\n",
        "# Set standard EEG 10-05 montage, allow missing channels\n",
        "raw.set_montage('standard_1005', on_missing='ignore')\n",
        "\n",
        "# Bandpass filter the EEG data (4–30 Hz)\n",
        "raw.filter(4., 30., fir_design='firwin', skip_by_annotation='edge')\n",
        "\n"
      ]
    },
    {
      "cell_type": "markdown",
      "metadata": {
        "id": "qSEAs0ovEtzM"
      },
      "source": [
        "## Step 4: Epoching and Event Annotation\n",
        "\n",
        "We segment the raw continuous EEG into short time-locked windows called **epochs**, around motor imagery events:\n",
        "- Epochs are 1.0s long and aligned with event onsets (time 0).\n",
        "- The EEG signal is **baseline-corrected** (i.e., removing mean from pre-stimulus time) to remove constant offset.\n",
        "\n",
        "We also filter to only include **left vs right hand imagery** and reject eye artifacts using simple peak-to-peak thresholds.\n"
      ]
    },
    {
      "cell_type": "code",
      "execution_count": null,
      "metadata": {
        "id": "nuy2fhpmEvxK"
      },
      "outputs": [],
      "source": [
        "# Pick only EEG channels (ignores ECG, EMG, etc.)\n",
        "raw.pick_types(eeg=True)\n",
        "\n",
        "# Define events from the stimulus channel\n",
        "events, _ = mne.events_from_annotations(raw)\n",
        "\n",
        "# Define epoching parameters\n",
        "event_id = dict(T1=2, T2=3)  # 2 and 3 are the motor imagery tasks (left hand, right hand)\n",
        "tmin = -1  # start of each epoch (in seconds)\n",
        "tmax = 4   # end of each epoch\n",
        "\n",
        "# Extract epochs based on events\n",
        "epochs = mne.Epochs(raw, events=events, event_id=event_id, tmin=tmin, tmax=tmax,\n",
        "                    baseline=None, preload=True)"
      ]
    },
    {
      "cell_type": "markdown",
      "metadata": {
        "id": "gK6BwSjzEVCY"
      },
      "source": [
        "## Step 5: Feature Extraction using Power Spectral Density (PSD)\n",
        "\n",
        "We compute Power Spectral Densities (PSD) to extract features:\n",
        "- PSD represents how power (signal energy) is distributed across frequencies.\n",
        "- We focus on 4–30 Hz, which includes motor-relevant mu and beta rhythms.\n",
        "\n",
        "MNE computes PSD for each epoch using **multitaper spectral estimation**, a method that provides stable frequency estimates.\n",
        "\n"
      ]
    },
    {
      "cell_type": "code",
      "execution_count": null,
      "metadata": {
        "id": "eVU4qK5WBn6X"
      },
      "outputs": [],
      "source": [
        "psd = epochs.compute_psd(method='welch', fmin=4, fmax=30, n_fft=256)\n",
        "psds, freqs = psd.get_data(return_freqs=True)\n",
        "\n",
        "# Flatten the features and get labels\n",
        "X = psds.mean(axis=2)  # average across frequencies\n",
        "y = epochs.events[:, 2]  # labels (2 = left hand, 3 = right hand)\n"
      ]
    },
    {
      "cell_type": "markdown",
      "metadata": {
        "id": "KyNk8zSXEYeF"
      },
      "source": [
        "## Step 6: Classification using Logistic Regression\n",
        "\n",
        "We use **logistic regression**, a simple yet effective linear model for binary classification.\n",
        "\n",
        "Steps:\n",
        "1. Flatten the PSD features.\n",
        "2. Split data into training and testing sets (80/20).\n",
        "3. Train the model on training data.\n",
        "4. Evaluate accuracy on test data.\n",
        "\n",
        "Logistic regression is interpretable and works well with high-dimensional EEG features.\n",
        "\n"
      ]
    },
    {
      "cell_type": "code",
      "execution_count": null,
      "metadata": {
        "colab": {
          "base_uri": "https://localhost:8080/"
        },
        "id": "nDzDig67Bqw1",
        "outputId": "f6c2cc7e-3c93-4fe7-cf76-d5a8adf0483b"
      },
      "outputs": [
        {
          "name": "stdout",
          "output_type": "stream",
          "text": [
            "              precision    recall  f1-score   support\n",
            "\n",
            "        Left       0.50      0.20      0.29         5\n",
            "       Right       0.43      0.75      0.55         4\n",
            "\n",
            "    accuracy                           0.44         9\n",
            "   macro avg       0.46      0.47      0.42         9\n",
            "weighted avg       0.47      0.44      0.40         9\n",
            "\n"
          ]
        }
      ],
      "source": [
        "# 6. Train ML Classifier\n",
        "# ==========================\n",
        "X_train, X_test, y_train, y_test = train_test_split(X, y, test_size=0.3, random_state=42)\n",
        "\n",
        "clf = RandomForestClassifier(n_estimators=100, random_state=42)\n",
        "clf.fit(X_train, y_train)\n",
        "\n",
        "y_pred = clf.predict(X_test)\n",
        "print(classification_report(y_test, y_pred, target_names=['Left', 'Right']))\n"
      ]
    },
    {
      "cell_type": "markdown",
      "metadata": {
        "id": "O7MK0ZLkEg7c"
      },
      "source": [
        "## Step 7: Confusion Matrix Visualization\n",
        "\n",
        "We plot a **confusion matrix** to visualize model performance:\n",
        "- True vs predicted labels.\n",
        "- Useful to identify which class (left/right) is being misclassified more often.\n",
        "\n",
        "We use `seaborn` heatmap to generate a clean and interpretable plot.\n"
      ]
    },
    {
      "cell_type": "markdown",
      "metadata": {
        "id": "qwFRPoMhEa2h"
      },
      "source": []
    },
    {
      "cell_type": "code",
      "execution_count": null,
      "metadata": {
        "colab": {
          "base_uri": "https://localhost:8080/",
          "height": 472
        },
        "id": "iIvbyj9PBuz3",
        "outputId": "760f5eee-567f-468b-a016-c68b410a416c"
      },
      "outputs": [
        {
          "data": {
            "image/png": "[encoded data removed]",
            "text/plain": [
              "<Figure size 640x480 with 2 Axes>"
            ]
          },
          "metadata": {},
          "output_type": "display_data"
        }
      ],
      "source": [
        "sns.heatmap(confusion_matrix(y_test, y_pred), annot=True, fmt='d', cmap='Blues',\n",
        "            xticklabels=['Left', 'Right'], yticklabels=['Left', 'Right'])\n",
        "plt.title(\"Confusion Matrix\")\n",
        "plt.xlabel(\"Predicted\")\n",
        "plt.ylabel(\"True\")\n",
        "plt.show()\n"
      ]
    },
    {
      "cell_type": "markdown",
      "metadata": {
        "id": "Ohv2ky-bEja4"
      },
      "source": [
        "## Final Notes\n",
        "\n",
        "This notebook provides a basic pipeline for EEG motor imagery classification:\n",
        "- Signal loading\n",
        "- Preprocessing\n",
        "- Epoching\n",
        "- Feature extraction\n",
        "- Classification\n",
        "\n",
        "You can extend this by trying:\n",
        "- Different classifiers (SVM, Random Forest, CNNs)\n",
        "- More subjects and runs\n",
        "- Cross-validation and hyperparameter tuning\n",
        "\n",
        "This serves as a strong starting point for real-time BCI or neuroscience research.\n"
      ]
    }
  ],
  "metadata": {
    "colab": {
      "provenance": []
    },
    "kernelspec": {
      "display_name": "Python 3",
      "name": "python3"
    },
    "language_info": {
      "name": "python"
    }
  },
  "nbformat": 4,
  "nbformat_minor": 0
}
